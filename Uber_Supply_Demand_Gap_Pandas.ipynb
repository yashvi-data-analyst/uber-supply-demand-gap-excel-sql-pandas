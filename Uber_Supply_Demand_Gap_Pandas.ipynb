{
 "cells": [
  {
   "cell_type": "code",
   "execution_count": 2,
   "id": "f73b3ff4-5318-466d-b100-e19eff57754f",
   "metadata": {},
   "outputs": [
    {
     "name": "stdout",
     "output_type": "stream",
     "text": [
      "Loaded: 24 18 12\n"
     ]
    }
   ],
   "source": [
    "import pandas as pd, numpy as np\n",
    "import matplotlib.pyplot as plt, seaborn as sns\n",
    "plt.style.use(\"seaborn-v0_8-darkgrid\")\n",
    "sns.set_palette([\"#f28e2b\",\"#4e79a7\",\"#7f7f7f\"])\n",
    "\n",
    "HOUR_CSV = \"hour_level.csv\"\n",
    "DAYPART_STATUS_CSV = \"daypart_status.csv\"\n",
    "PICKUP_GAP_CSV = \"pickup_daypart_gap.csv\"\n",
    "\n",
    "hour = pd.read_csv(HOUR_CSV)\n",
    "daypart_status = pd.read_csv(DAYPART_STATUS_CSV)\n",
    "pickup_gap = pd.read_csv(PICKUP_GAP_CSV)\n",
    "\n",
    "# Flexible column mapping based on what exists\n",
    "cols = {c.lower(): c for c in hour.columns}\n",
    "req_col  = cols.get(\"requests\", cols.get(\"total_requests\",\"requests\"))\n",
    "unf_col  = cols.get(\"unfulfilled\", cols.get(\"unfulfilled_count\",\"unfulfilled\"))\n",
    "hr_col   = cols.get(\"request_hour\", cols.get(\"hour\",\"request_hour\"))\n",
    "pct_col  = cols.get(\"unfulfilled_pct_dec\", cols.get(\"unfulfilled_pct\", None))\n",
    "\n",
    "# Create the exact columns the plotting code expects\n",
    "hour = hour.rename(columns={req_col:\"requests\", unf_col:\"unfulfilled\", hr_col:\"request_hour\"})\n",
    "hour[\"request_hour\"] = hour[\"request_hour\"].astype(int)\n",
    "\n",
    "# If percent not present, compute it\n",
    "if pct_col and pct_col in hour.columns:\n",
    "    # If value looks like 0–1 keep; if 0–100 convert\n",
    "    v = hour[pct_col].astype(float)\n",
    "    hour[\"unfulfilled_pct_dec\"] = np.where(v.max()>1.5, v/100.0, v)\n",
    "else:\n",
    "    hour[\"unfulfilled_pct_dec\"] = hour[\"unfulfilled\"] / hour[\"requests\"]\n",
    "\n",
    "daypart_order = [\"Early Morning\",\"Morning\",\"Afternoon\",\"Evening\",\"Night\",\"Late Night\"]\n",
    "print(\"Loaded:\", len(hour), len(daypart_status), len(pickup_gap))\n"
   ]
  },
  {
   "cell_type": "code",
   "execution_count": 3,
   "id": "1878e9a3-1bbe-407a-8b5a-21104a8b784a",
   "metadata": {},
   "outputs": [
    {
     "name": "stdout",
     "output_type": "stream",
     "text": [
      "{'Total Requests': 6745, 'Unfulfilled (count)': 3914, 'Unfulfilled (%)': '58.0%'}\n"
     ]
    }
   ],
   "source": [
    "total_requests = int(hour[\"requests\"].sum())\n",
    "unfulfilled_count = int(hour[\"unfulfilled\"].sum())\n",
    "unfulfilled_pct = float(unfulfilled_count / total_requests)\n",
    "\n",
    "kpis = pd.DataFrame({\n",
    "    \"metric\":[\"total_requests\",\"unfulfilled_count\",\"unfulfilled_pct\"],\n",
    "    \"value\":[total_requests, unfulfilled_count, round(unfulfilled_pct,4)]\n",
    "})\n",
    "kpis.to_csv(\"kpis_summary.csv\", index=False)\n",
    "\n",
    "print({\"Total Requests\": total_requests,\n",
    "       \"Unfulfilled (count)\": unfulfilled_count,\n",
    "       \"Unfulfilled (%)\": f\"{unfulfilled_pct*100:.1f}%\"})\n"
   ]
  },
  {
   "cell_type": "code",
   "execution_count": 4,
   "id": "5c64c9f8-8f39-450f-96f4-bad32ba3b232",
   "metadata": {},
   "outputs": [
    {
     "name": "stdout",
     "output_type": "stream",
     "text": [
      "Saved hourly_requests_unfulfilled.png\n"
     ]
    }
   ],
   "source": [
    "fig, ax1 = plt.subplots(figsize=(10,4))\n",
    "ax1.bar(hour[\"request_hour\"], hour[\"requests\"], color=\"#f28e2b\", label=\"Requests\")\n",
    "ax1.set_xlabel(\"Hour\"); ax1.set_ylabel(\"Requests\")\n",
    "\n",
    "ax2 = ax1.twinx()\n",
    "ax2.plot(hour[\"request_hour\"], hour[\"unfulfilled_pct_dec\"]*100,\n",
    "         color=\"#4e79a7\", linewidth=2.4, label=\"Unfulfilled %\")\n",
    "ax2.set_ylabel(\"Unfulfilled %\"); ax2.set_ylim(0,100)\n",
    "\n",
    "fig.suptitle(\"Hourly Requests vs Unfulfilled %\")\n",
    "fig.tight_layout()\n",
    "fig.savefig(\"hourly_requests_unfulfilled.png\", dpi=220)\n",
    "plt.close(fig)\n",
    "print(\"Saved hourly_requests_unfulfilled.png\")\n"
   ]
  },
  {
   "cell_type": "code",
   "execution_count": 5,
   "id": "6fc15a2d-c423-42d6-9d62-f0baf3f9f81b",
   "metadata": {},
   "outputs": [
    {
     "name": "stdout",
     "output_type": "stream",
     "text": [
      "Saved pickup_daypart_unfulfilled.png\n"
     ]
    }
   ],
   "source": [
    "fig, ax = plt.subplots(figsize=(8,4))\n",
    "sns.barplot(data=pickup_gap, x=\"daypart\", y=\"unfulfilled\", hue=\"pickup_point\",\n",
    "            order=daypart_order, ax=ax)\n",
    "ax.set_title(\"Pickup × Daypart: Unfulfilled\")\n",
    "ax.set_xlabel(\"Daypart\"); ax.set_ylabel(\"Unfulfilled\")\n",
    "ax.legend(title=None, loc=\"upper right\")\n",
    "fig.tight_layout()\n",
    "fig.savefig(\"pickup_daypart_unfulfilled.png\", dpi=220)\n",
    "plt.close(fig)\n",
    "print(\"Saved pickup_daypart_unfulfilled.png\")\n"
   ]
  },
  {
   "cell_type": "code",
   "execution_count": 6,
   "id": "d3d2792e-ada4-45d3-bd14-4c86469b1129",
   "metadata": {},
   "outputs": [
    {
     "name": "stdout",
     "output_type": "stream",
     "text": [
      "Saved daypart_status_counts.png\n"
     ]
    }
   ],
   "source": [
    "pt = daypart_status.pivot_table(index=\"daypart\", columns=\"status\",\n",
    "                                values=\"n\", aggfunc=\"sum\").fillna(0)\n",
    "pt = pt.reindex(daypart_order)\n",
    "\n",
    "colors = {\"Cancelled\":\"#4e79a7\",\"No Cars Available\":\"#f28e2b\",\"Trip Completed\":\"#7f7f7f\"}\n",
    "fig, ax = plt.subplots(figsize=(8,4))\n",
    "bottom = np.zeros(len(pt))\n",
    "for col in [\"Cancelled\",\"No Cars Available\",\"Trip Completed\"]:\n",
    "    ax.bar(pt.index, pt[col].values, bottom=bottom, color=colors[col], label=col)\n",
    "    bottom += pt[col].values\n",
    "\n",
    "ax.set_title(\"Daypart × Status (Counts)\")\n",
    "ax.set_xlabel(\"Daypart\"); ax.set_ylabel(\"Count\")\n",
    "ax.legend(ncol=3, bbox_to_anchor=(0.5,-0.18), loc=\"upper center\")\n",
    "fig.tight_layout()\n",
    "fig.savefig(\"daypart_status_counts.png\", dpi=220, bbox_inches=\"tight\")\n",
    "plt.close(fig)\n",
    "print(\"Saved daypart_status_counts.png\")\n"
   ]
  },
  {
   "cell_type": "code",
   "execution_count": 7,
   "id": "48168831-6005-400c-822d-7a11b929ba27",
   "metadata": {},
   "outputs": [
    {
     "name": "stdout",
     "output_type": "stream",
     "text": [
      "Saved pandas_dashboard_export.pdf\n"
     ]
    }
   ],
   "source": [
    "from matplotlib.backends.backend_pdf import PdfPages\n",
    "imgs = [\"hourly_requests_unfulfilled.png\",\n",
    "        \"pickup_daypart_unfulfilled.png\",\n",
    "        \"daypart_status_counts.png\"]\n",
    "with PdfPages(\"pandas_dashboard_export.pdf\") as pdf:\n",
    "    for img in imgs:\n",
    "        fig = plt.figure(figsize=(11.69,8.27))  # A4 landscape\n",
    "        ax = fig.add_axes([0,0,1,1]); ax.axis(\"off\")\n",
    "        ax.imshow(plt.imread(img))\n",
    "        pdf.savefig(fig, bbox_inches=\"tight\"); plt.close(fig)\n",
    "print(\"Saved pandas_dashboard_export.pdf\")\n"
   ]
  },
  {
   "cell_type": "code",
   "execution_count": 8,
   "id": "a63eba69-f4a3-48ee-bbc7-44b290600241",
   "metadata": {},
   "outputs": [
    {
     "name": "stdout",
     "output_type": "stream",
     "text": [
      "KPIs\n",
      "- Total Requests: 6745\n",
      "- Unfulfilled (count): 3914\n",
      "- Unfulfilled (%): 58.0%\n",
      "\n",
      "Top hours by unfulfilled% (first 5):\n",
      "request_hour\n",
      "1     70.6\n",
      "21    68.4\n",
      "18    67.8\n",
      "20    67.3\n",
      "19    64.9\n",
      "\n",
      "Pickup × Daypart (top 6 unfulfilled):\n",
      "      daypart pickup_point  unfulfilled\n",
      "      Evening      Airport         1145\n",
      "Early Morning         City          700\n",
      "      Morning         City          651\n",
      "        Night      Airport          421\n",
      "   Late Night         City          214\n",
      "    Afternoon         City          205\n"
     ]
    }
   ],
   "source": [
    "# Final: KPIs + ranked insights (text-only)\n",
    "total_requests = int(hour[\"requests\"].sum())\n",
    "unfulfilled_count = int(hour[\"unfulfilled\"].sum())\n",
    "unfulfilled_pct = unfulfilled_count / total_requests\n",
    "\n",
    "by_hour = (hour.groupby(\"request_hour\")\n",
    "           .agg(req=(\"requests\",\"sum\"), unf=(\"unfulfilled\",\"sum\"))\n",
    "           .assign(unf_pct=lambda d: d[\"unf\"]/d[\"req\"])\n",
    "           .sort_values(\"unf_pct\", ascending=False))\n",
    "\n",
    "by_daypart = (pickup_gap.groupby([\"daypart\",\"pickup_point\"])[\"unfulfilled\"]\n",
    "              .sum().reset_index()\n",
    "              .sort_values(\"unfulfilled\", ascending=False))\n",
    "\n",
    "# Save KPIs for repo\n",
    "pd.DataFrame({\n",
    "    \"metric\":[\"total_requests\",\"unfulfilled_count\",\"unfulfilled_pct\"],\n",
    "    \"value\":[total_requests, unfulfilled_count, round(float(unfulfilled_pct),4)]\n",
    "}).to_csv(\"kpis_summary.csv\", index=False)\n",
    "\n",
    "print(\"KPIs\")\n",
    "print(f\"- Total Requests: {total_requests}\")\n",
    "print(f\"- Unfulfilled (count): {unfulfilled_count}\")\n",
    "print(f\"- Unfulfilled (%): {unfulfilled_pct*100:.1f}%\")\n",
    "\n",
    "print(\"\\nTop hours by unfulfilled% (first 5):\")\n",
    "print((by_hour[\"unf_pct\"].mul(100).round(1)).head(5).to_string())\n",
    "\n",
    "print(\"\\nPickup × Daypart (top 6 unfulfilled):\")\n",
    "print(by_daypart.head(6).to_string(index=False))\n"
   ]
  },
  {
   "cell_type": "code",
   "execution_count": null,
   "id": "972202b5-0c12-4382-b2a7-b4ecb89b1428",
   "metadata": {},
   "outputs": [],
   "source": []
  }
 ],
 "metadata": {
  "kernelspec": {
   "display_name": "Python 3 (ipykernel)",
   "language": "python",
   "name": "python3"
  },
  "language_info": {
   "codemirror_mode": {
    "name": "ipython",
    "version": 3
   },
   "file_extension": ".py",
   "mimetype": "text/x-python",
   "name": "python",
   "nbconvert_exporter": "python",
   "pygments_lexer": "ipython3",
   "version": "3.10.1"
  }
 },
 "nbformat": 4,
 "nbformat_minor": 5
}
